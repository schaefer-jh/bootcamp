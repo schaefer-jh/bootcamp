{
 "cells": [
  {
   "cell_type": "markdown",
   "metadata": {},
   "source": [
    "# Exercise 2.2: Restriction enzyme cut sites\n",
    "\n",
    "<hr>"
   ]
  },
  {
   "cell_type": "markdown",
   "metadata": {},
   "source": [
    "**[Restriction enzymes](https://en.wikipedia.org/wiki/Restriction_enzyme)** cut DNA at specific locations called **restriction sites**. The sequence at a restriction site is called a **recognition sequence**. Here are the recognition sequences of some commonly used restriction enzymes.\n",
    "\n",
    "|Restriction enzyme | Recognition sequence|\n",
    "|:----|:----|\n",
    "|[HindIII](https://en.wikipedia.org/wiki/HindIII) | `AAGCTT` |\n",
    "|[EcoRI](https://en.wikipedia.org/wiki/EcoRI)| `GAATTC` |\n",
    "|KpnI| `GGTACC` |\n",
    "\n",
    "\n",
    "**a)** [New England Biosystems](https://www.neb.com/products/n3011-lambda-dna#Product%20Information) sells purified DNA of the genome of λ-phage, a bacteriophage that infect _E. coli_. You can download the FASTA file containing the sequence [here](https://www.neb.com/-/media/nebus/page-images/tools-and-resources/interactive-tools/dna-sequences-and-maps/text-documents/lambdafsa.txt). Use the function you wrote in [Exercise 2.1](exercise_2.1.ipynb) to extract the sequence.\n",
    "\n",
    "**b)** Write a function with call signature\n",
    "\n",
    "```python\n",
    "restriction_sites(seq, recog_seq)\n",
    "```\n",
    "\n",
    "that takes as arguments a sequence and the recognition sequence of a restriction enzyme sites and returns the indices of the first base of each of the restriction sites in the sequence. Use this function to find the indices of the restriction sites of λ-DNA for HindIII, EcoRI, and KpnI. Compare your results with those given [here](https://www.bioinformatics.nl/molbi/SCLResources/LambdaBE_restrct_alphab.htm), which contain a comprehensive list of locations of restriction sites for a variety of enzymes.\n",
    "\n",
    "<!--Compare your results to those reported on the [New England Biosystems datasheet](https://www.neb.com/-/media/nebus/page-images/tools-and-resources/interactive-tools/dna-sequences-and-maps/lambda_sites.pdf).-->"
   ]
  },
  {
   "cell_type": "markdown",
   "metadata": {},
   "source": [
    "<br />"
   ]
  },
  {
   "cell_type": "code",
   "execution_count": null,
   "metadata": {},
   "outputs": [
    {
     "name": "stdout",
     "output_type": "stream",
     "text": [
      ">gi|821161554|gb|CP011428.1| Salmonella enterica subsp. enterica strain YU39, complete genome, subsequence 3000000 to 3200000 AAAACCTTAGTAACTGGACTGCTGGGATTTTTCAGCCTGGATACGCTGGTAGATCTCTTC ACGATGGACAGAAACTTCTTTCGGGGCGTTCACGCCAATACGCACCTGGTTGCCCTTCAC CCCTAAAACTGTCACGGTGACCTCATCGCCAATCATGAGGGTCTCACCAACTCGACGAGT CAGAATCAGCATTCTTTGCTCCTTGAAAGATTAAAAGAGTCGGGTCTCTCTGTATCCCGG CATTATCCATCATATAACGCCAAAAAGTAAGCGATGACAAACACCTTAGGTGTAAGCAGT CATGGCATTACATTCTGTTAAACCTAAGTTTAGCCGATATACAAAACTTCAACCTGACTT TATCGTTGTCGATAGCGTTGACGTAAACGCCGCAGCACGGGCTGCGGCGCCAACGAACGC TTATAATTATTGCAATTTTGCGCTGACCCAGCCTTGTACACTGGCTAACGCTGCAGGCAG AGCTGCCGCATCCGTACCACCGGCTTGCGCCATGTCCGGACGACCGCCACCCTTACCGCC CACCTGCTGAGCGACCATCCCAATCAATTCCCCTGCTTTAACCCGGTCGGTCACATCCTT\n"
     ]
    }
   ],
   "source": [
    "#A\n",
    "def merge_lines(file_path):\n",
    "    with open(file_path, 'r') as file:\n",
    "        lines = [file.readline().strip() for _ in range(11)]\n",
    "        # Concatenate them into a single line separated by spaces\n",
    "        merged_line = ' '.join(lines)\n",
    "        return merged_line\n",
    "\n",
    "# Example usage:\n",
    "file_path = '/Users/jschaefer/git/bootcamp/data/salmonella_spi1_region.fna'\n",
    "result = merge_lines(file_path)\n",
    "print(result)\n"
   ]
  },
  {
   "cell_type": "code",
   "execution_count": 30,
   "metadata": {},
   "outputs": [],
   "source": [
    "#B\n",
    "input_file = '/Users/jschaefer/git/bootcamp/data/salmonella_spi1_region.fna'\n",
    "output_file = 'test-restrict.txt'\n",
    "\n",
    "restriction_sites = {'AAGCTT', 'GAATTC', 'GGTACC'}\n",
    "\n",
    "with open(input_file, 'r') as f, open(output_file, 'w') as f_out:\n",
    "    f.readline()  # Skip the header line\n",
    "    sequence = ''.join(line.strip() for line in f)  # Concatenate all lines into a single sequence string\n",
    "\n",
    "    for enzyme, recog_seq in restriction_dict.items():\n",
    "        indices = [i for i in range(len(sequence)) if sequence.startswith(recog_seq, i)]\n",
    "        if indices:\n",
    "            f_out.write(f\"{enzyme} ({recog_seq}): {indices}\\n\")"
   ]
  },
  {
   "cell_type": "code",
   "execution_count": 31,
   "metadata": {},
   "outputs": [
    {
     "name": "stdout",
     "output_type": "stream",
     "text": [
      "HindIII (AAGCTT): [12595, 19244, 22485, 42236, 47563, 49929, 55826, 59833, 71572, 72092, 74903, 76636, 116585, 118186, 137494, 146364, 146454, 147088, 150080, 153240, 155781, 155966, 178754, 196253]\n",
      "EcoRI (GAATTC): [5011, 24356, 33165, 34356, 40926, 48068, 59054, 59567, 66443, 74680, 75678, 91551, 104277, 110118, 120215, 126779, 126842, 127091, 133129, 139981, 146229, 153582, 187896, 190421, 191858]\n",
      "KpnI (GGTACC): [22002, 22351, 25966, 47265, 47632, 55090, 56741, 57386, 75363, 81434, 85625, 97291, 120548, 122317, 126437, 127807, 128785, 128886, 143980, 154677, 158213, 162007, 166832, 183120, 194645]\n"
     ]
    }
   ],
   "source": [
    "!head -10 test-restrict.txt"
   ]
  }
 ],
 "metadata": {
  "anaconda-cloud": {},
  "kernelspec": {
   "display_name": "bootcamp",
   "language": "python",
   "name": "python3"
  },
  "language_info": {
   "codemirror_mode": {
    "name": "ipython",
    "version": 3
   },
   "file_extension": ".py",
   "mimetype": "text/x-python",
   "name": "python",
   "nbconvert_exporter": "python",
   "pygments_lexer": "ipython3",
   "version": "3.12.9"
  }
 },
 "nbformat": 4,
 "nbformat_minor": 4
}
