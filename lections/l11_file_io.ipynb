{
 "cells": [
  {
   "cell_type": "markdown",
   "metadata": {},
   "source": [
    "# Lesson 11: File I/O\n",
    "\n",
    "<hr>"
   ]
  },
  {
   "cell_type": "code",
   "execution_count": 1,
   "metadata": {
    "tags": []
   },
   "outputs": [],
   "source": [
    "import os\n",
    "import glob"
   ]
  },
  {
   "cell_type": "markdown",
   "metadata": {},
   "source": [
    "<hr/>\n",
    "\n",
    "Reading data in from files and then writing your results out again is one of the most common practices in scientific computing. In this tutorial, we will learn about some of Python's File I/O capabilities. We will use a PDB file as an example. The PDB file contains the crystal structure for the tetramerization domain of [p53](https://en.wikipedia.org/wiki/P53).It is stored in the  file `~/git/bootcamp/data/1OLG.pdb`. (Make sure you launch your notebook from the `~/git/bootcamp/` directory.) Note that `1OLG` is its unique [Protein Databank](http://www.rcsb.org/pdb/explore/explore.do?structureId=1olg) identifier."
   ]
  },
  {
   "cell_type": "markdown",
   "metadata": {},
   "source": [
    "## File objects\n",
    "\n",
    "To open a file, we use the built-in `open()` function. When opening files, we should do this using **context management**. I will demonstrate how to open a file and then describe the syntax."
   ]
  },
  {
   "cell_type": "code",
   "execution_count": 2,
   "metadata": {
    "tags": []
   },
   "outputs": [
    {
     "name": "stdout",
     "output_type": "stream",
     "text": [
      "<class '_io.TextIOWrapper'>\n"
     ]
    }
   ],
   "source": [
    "\n",
    "import os\n",
    "import glob\n",
    "\n",
    "with open('/Users/jschaefer/git/bootcamp/data/1OLG.pdb', 'r') as f:\n",
    "    print(type(f))"
   ]
  },
  {
   "cell_type": "markdown",
   "metadata": {},
   "source": [
    "Python has a wonderful keyword, `with`. This keyword enables **context management**. Upon entry into a `with` block, variables have certain meaning. In this case, the variable `f` has the meaning of an open file, an instance of the `_io.TextIOWrapper` class. Upon exit, certain operations take place. For file objects created by opening them, the file is automatically closed upon exit, **even if there is an error**. This is important. If your program raises an exception before you have a chance to close the file, it won't get closed and you could be in trouble. If you use context management, the file will still get closed. So here is an important tip:\n",
    "\n",
    "<div style=\"color: dodgerblue; text-align: center; font-weight: bold;\">\n",
    "\n",
    "Use context management using <tt>with</tt> when working with files.\n",
    "    \n",
    "</div>\n",
    "\n",
    "Let's focus for a moment on the variable `f` in the above code cell. It is a Python `file` object, which has methods and attributes, just like any other object. We'll explore those in a moment, but first, let's look at how we opened the file. The first argument to `open()` is a string that has the name of the file, with the full path if necessary. The second argument is a string that says what we will be doing with the file. I.e., are we reading or writing to the file? The possible strings for this second argument are\n",
    "\n",
    "|string | meaning|\n",
    "|:------|:-------|\n",
    "|`'r'` | open a text file for reading|\n",
    "|`'w'` | create and open a text file for writing|\n",
    "|`'a'` | append an existing text file|\n",
    "|`'r+'`| open a text file for reading and writing|\n",
    "|append `'b'` to any of the above | same as above, except for binary files|\n",
    "\n",
    "We will mostly be working with text files in the bootcamp, so the first three are the most useful.  A big warning, though....\n",
    "\n",
    "\n",
    "<div style=\"color: tomato; text-align: center; font-weight: bold;\">\n",
    "\n",
    "Trying to open an existing file with <tt>'w'</tt> will wipe it out and create a new file.\n",
    "    \n",
    "</div>\n"
   ]
  },
  {
   "cell_type": "markdown",
   "metadata": {},
   "source": [
    "### Reading data out of the file with file object methods\n",
    "\n",
    "We will focus on the methods `f.read()` and `f.readlines()`. What do they do?\n",
    "\n",
    "|method | task|\n",
    "|:------|:-------|\n",
    "|`f.read()` | Read the entire contents of the file into a string|\n",
    "|`f.readlines()` | Read the entire file into a list with each item being a string representing a line|\n",
    "\n",
    "First, we'll try using the first method to get a single string with the entire contents of the file."
   ]
  },
  {
   "cell_type": "code",
   "execution_count": null,
   "metadata": {
    "tags": []
   },
   "outputs": [
    {
     "data": {
      "text/plain": [
       "'HEADER    ANTI-ONCOGENE                           13-JUN-94   1OLG              \\nTITLE     HIGH-RESOLUTION SOLUTION STRUCTURE OF THE OLIGOMERIZATION             \\nTITLE    2 DOMAIN OF P53 BY MULTI-DIMENSIONAL NMR                               \\nCOMPND    MOL_ID: 1;                                                            \\nCOMPND   2 MOLECULE: TUMOR SUPPRESSOR P53 (OLIGOMERIZATION DOMAIN);             \\nCOMPND   3 CHAIN: A, B, C, D;                                                   \\nCOMPND   4 ENGINEERED: YES                                                      \\nSOURCE    MOL_ID: 1;                                                            \\nSOURCE   2 ORGANISM_SCIENTIFIC: HOMO SAPIENS;                                   \\nSOURCE   3 ORGANISM_COMMON: HUMAN;                                              \\nSOURCE   4 ORGANISM_TAXID: 9606                                                 \\nKEYWDS    ANTI-ONCOGENE                                                         \\nEXPDTA    SOLUTION NMR                                                          \\nAUTHOR    G.M.CLORE,J.G.OMICHINSKI,A.M.GRONENBORN                               \\nREVDAT   4   24-FEB-09 1OLG    1       VERSN                                    \\nREVDAT   3   01-APR-03 1OLG    1       JRNL                                     \\nREVDAT   2   08-MAR-95 1OLG    1       REMARK                                   \\nREVDAT   1   26-JAN-95 1OLG    0                                                \\nJRNL        AUTH   G.M.CLORE,J.G.OMICHINSKI,K.SAKAGUCHI,N.ZAMBRANO,             \\nJRNL        AUTH 2 H.SAKAMOTO,E.APPELLA,A.M.GRONENBORN                          \\nJRNL        TITL   HIGH-RESOLUTION STRUCTURE OF THE OLIGOMERIZATION             \\nJRNL        TITL 2 DOMAIN OF P53 BY MULTIDIMENSIONAL NMR.                       \\nJRNL        REF    SCIENCE                       V. 265   386 1994              \\nJRNL        REFN                   ISSN 0036-8075                               \\nJRNL        PMID   8023159                                                      \\nREMARK   1                                                                      \\nREMARK   2                                                                      \\nREMARK   2 RESOLUTION. NOT APPLICABLE.                                          \\nREMARK   3                                                                      \\nREMARK   3 REFINEMENT.                                                          \\nREMARK   3   PROGRAM     : NULL                                                 \\nREMARK   3   AUTHORS     : NULL                                                 \\nREMARK   3                                                                      \\nREMARK   3  OTHER REFINEMENT REMARKS:                                           \\nREMARK   3  THE 3D STRUCTURE OF THE OLIGOMERIZATION DOMAIN (RESIDUES            \\nREMARK   3  319 - 360) OF P53 BY MULTI-DIMENSIONAL HETERONUCLEAR-EDITED         \\nREMARK   3  AND -FILTERED NMR IS BASED ON 3824 EXPERIMENTAL RESTRAINTS          \\nREMARK   3  COMPRISING THE FOLLOWING INTRA- AND INTER-SUBUNIT                   \\nREMARK   3  RESTRAINTS:  (A) INTRASUBUNIT:  840 SEQUENTIAL (|I-J|=1),           \\nREMARK   3  744 SHORT RANGE (1 < |I-J| >=5) AND 72 LONG RANGE                   \\nREMARK   3  (|I-J| >5) INTERRESIDUES AND INTRARESIDUE APPROXIMATE               \\nREMARK   3  INTERPROTON DISTANCE RESTRAINTS, 136 DISTANCE RESTRAINTS            \\nREMARK   3  FOR 68 HYDROGEN BONDS, 268 TORSION ANGLE (144 PHI, 104 CHI1         \\nREMARK   3  AND 20 CHI2) RESTRAINTS, AND 144 THREE-BOND HN-HA COUPLING          \\nREMARK   3  CONSTANT RESTRAINTS.  (B) INTERSUBUNIT:  72 A-B/C-D,                \\nREMARK   3  758 A-C/B-D, 10 A-D/B-C APPROXIMATE INTERPROTON DISTANCE            \\nREMARK   3  RESTRAINTS, AND 24 DISTANCE RESTRAINTS FOR 12 HYDROGEN              \\nREMARK   3  BONDS INVOLVING THE A-C/B-D SUBUNITS.  IN ADDITION, THERE           \\nREMARK   3  ARE A TOTAL OF 38 CALPHA AND 38 CB CHEMICAL SHIFT                   \\nREMARK   3  RESTRAINTS PER SUBUNIT THAT HAVE BEEN INCORPORATED                  \\nREMARK   3  INTO THE REFINEMENT [J. KUSZWESKI, J. QIN, A.M. GRONENBORN          \\nREMARK   3  AND G.M. CLORE, J. MAGN RESON. SER IN PRESS (1994)]                 \\nREMARK   3                                                                      \\nREMARK   3  THE STRUCTURES ARE CALCULATED USING THE HYBRID METRIC               \\nREMARK   3  MATRIX DISTANCE GEOMETRY-DYNAMICAL SIMULATED ANNEALING              \\nREMARK   3  METHOD DESCRIBED BY:  NILGES, M., CLORE, G.M.  AND                  \\nREMARK   3  GRONENBORN, A.M. (1988) FEBS LETT. 29, 317-324.  ALL                \\nREMARK   3  STRUCTURAL STATISTICS ARE GIVEN IN THE JRNL REFERENCE.              \\nREMARK   3                                                                      \\nREMARK   3  THE STRUCTURE PRESENTED IN THIS ENTRY IS THE RESTRAINED             \\nREMARK   3  MINIMIZED AVERAGE STRUCTURE (SA)R.  THIS IS OBTAINED BY             \\nREMARK   3  FIRST AVERAGING THE COORDINATES OF THE INDIVIDUAL 35                \\nREMARK   3  DYNAMICAL SIMULATED ANNEALING SA STRUCTURES BEST FITTED TO          \\nREMARK   3  RESIDUES 324 - 356 OF ALL FOUR SUBUNITS AND SUBJECTING THE          \\nREMARK   3  RESULTING COORDINATES TO RESTRAINED MINIMIZATION.  THE              \\nREMARK   3  QUANTITY PRESENTED IN COLUMNS 61 - 66 IN THIS SET OF                \\nREMARK   3  COORDINATES (THE B-FACTOR FIELD IN X-RAY STRUCTURES) GIVES          \\nREMARK   3  THE AVERAGE RMS DIFFERENCE BETWEEN THE INDIVIDUAL SA                \\nREMARK   3  STRUCTURES AND THE MEAN STRUCTURE.  THE NUMBERS IN COLUMNS          \\nREMARK   3  61 - 66 OF THE INDIVIDUAL STRUCTURES HAVE NO MEANING.  NOTE         \\nREMARK   3  THAT RESIDUES 319 - 323 AT THE N-TERMINUS AND RESIDUES 357          \\nREMARK   3  - 360 AT THE C-TERMINUS ARE DISORDERED.  THE SET OF 35              \\nREMARK   3  STRUCTURES IS PRESENTED IN PROTEIN DATA BANK ENTRY 1OLH.            \\nREMARK   4                                                                      \\nREMARK   4 1OLG COMPLIES WITH FORMAT V. 3.15, 01-DEC-08                         \\nREMARK 100                                                                      \\nREMARK 100 THIS ENTRY HAS BEEN PROCESSED BY BNL.                                \\nREMARK 210                                                                      \\nREMARK 210 EXPERIMENTAL DETAILS                                                 \\nREMARK 210  EXPERIMENT TYPE                : NMR                                \\nREMARK 210  TEMPERATURE           (KELVIN) : NULL                               \\nREMARK 210  PH                             : NULL                               \\nREMARK 210  IONIC STRENGTH                 : NULL                               \\nREMARK 210  PRESSURE                       : NULL                               \\nREMARK 210  SAMPLE CONTENTS                : NULL                               \\nREMARK 210                                                                      \\nREMARK 210  NMR EXPERIMENTS CONDUCTED      : NULL                               \\nREMARK 210  SPECTROMETER FIELD STRENGTH    : NULL                               \\nREMARK 210  SPECTROMETER MODEL             : NULL                               \\nREMARK 210  SPECTROMETER MANUFACTURER      : NULL                               \\nREMARK 210                                                                      \\nREMARK 210  STRUCTURE DETERMINATION.                                            \\nREMARK 210   SOFTWARE USED                 : NULL                               \\nREMARK 210   METHOD USED                   : NULL                               \\nREMARK 210                                                                      \\nREMARK 210 CONFORMERS, NUMBER CALCULATED   : NULL                               \\nREMARK 210 CONFORMERS, NUMBER SUBMITTED    : 1                                  \\nREMARK 210 CONFORMERS, SELECTION CRITERIA  : NULL                               \\nREMARK 210                                                                      \\nREMARK 210 BEST REPRESENTATIVE CONFORMER IN THIS ENSEMBLE : NULL                \\nREMARK 210                                                                      \\nREMARK 210 REMARK: NULL                                                         \\nREMARK 215                                                                      \\nREMARK 215 NMR STUDY                                                            \\nREMARK 215 THE COORDINATES IN THIS ENTRY WERE GENERATED FROM SOLUTION           \\nREMARK 215 NMR DATA.  PROTEIN DATA BANK CONVENTIONS REQUIRE THAT                \\nREMARK 215 CRYST1 AND SCALE RECORDS BE INCLUDED, BUT THE VALUES ON              \\nREMARK 215 THESE RECORDS ARE MEANINGLESS.                                       \\nREMARK 500                                                                      \\nREMARK 500 GEOMETRY AND STEREOCHEMISTRY                                         \\nREMARK 500 SUBTOPIC: TORSION ANGLES                                             \\nREMARK 500                                                                      \\nREMARK 500 TORSION ANGLES OUTSIDE THE EXPECTED RAMACHANDRAN REGIONS:            \\nREMARK 500 (M=MODEL NUMBER; RES=RESIDUE NAME; C=CHAIN IDENTIFIER;               \\nREMARK 500 SSEQ=SEQUENCE NUMBER; I=INSERTION CODE).                             \\nREMARK 500                                                                      \\nREMARK 500 STANDARD TABLE:                                                      \\nREMARK 500 FORMAT:(10X,I3,1X,A3,1X,A1,I4,A1,4X,F7.2,3X,F7.2)                    \\nREMARK 500                                                                      \\nREMARK 500 EXPECTED VALUES: GJ KLEYWEGT AND TA JONES (1996). PHI/PSI-           \\nREMARK 500 CHOLOGY: RAMACHANDRAN REVISITED. STRUCTURE 4, 1395 - 1400            \\nREMARK 500                                                                      \\nREMARK 500  M RES CSSEQI        PSI       PHI                                   \\nREMARK 500    LYS A 320      -74.36  '"
      ]
     },
     "execution_count": 7,
     "metadata": {},
     "output_type": "execute_result"
    }
   ],
   "source": [
    "# Read file into string\n",
    "with open('/Users/jschaefer/git/bootcamp/data/1OLG.pdb', 'r') as f:\n",
    "    f_str = f.read() #look at the string\n",
    "\n",
    "# Let's look at the first 1000 characters\n",
    "f_str[:10000]"
   ]
  },
  {
   "cell_type": "markdown",
   "metadata": {},
   "source": [
    "We see lots of `\\n`, which signifies a new line. The backslash is known as an **escape character**, meaning that the `n` after it does not signify the letter n, but that `\\n` together means a new line.\n",
    "\n",
    "Now, let's try reading it in as a list."
   ]
  },
  {
   "cell_type": "code",
   "execution_count": null,
   "metadata": {
    "tags": []
   },
   "outputs": [
    {
     "data": {
      "text/plain": [
       "['HEADER    ANTI-ONCOGENE                           13-JUN-94   1OLG              \\n',\n",
       " 'TITLE     HIGH-RESOLUTION SOLUTION STRUCTURE OF THE OLIGOMERIZATION             \\n',\n",
       " 'TITLE    2 DOMAIN OF P53 BY MULTI-DIMENSIONAL NMR                               \\n',\n",
       " 'COMPND    MOL_ID: 1;                                                            \\n',\n",
       " 'COMPND   2 MOLECULE: TUMOR SUPPRESSOR P53 (OLIGOMERIZATION DOMAIN);             \\n',\n",
       " 'COMPND   3 CHAIN: A, B, C, D;                                                   \\n',\n",
       " 'COMPND   4 ENGINEERED: YES                                                      \\n',\n",
       " 'SOURCE    MOL_ID: 1;                                                            \\n',\n",
       " 'SOURCE   2 ORGANISM_SCIENTIFIC: HOMO SAPIENS;                                   \\n',\n",
       " 'SOURCE   3 ORGANISM_COMMON: HUMAN;                                              \\n']"
      ]
     },
     "execution_count": 8,
     "metadata": {},
     "output_type": "execute_result"
    }
   ],
   "source": [
    "# Read contents of the file in as a list\n",
    "with open('/Users/jschaefer/git/bootcamp/data/1OLG.pdb', 'r') as f:\n",
    "    f_list = f.readlines() #look at the list of lines\n",
    "\n",
    "# Look at the list (first ten entries)\n",
    "f_list[:10]"
   ]
  },
  {
   "cell_type": "markdown",
   "metadata": {},
   "source": [
    "We see that each entry is a line, including the newline character. To look at lines in files, the `rstrip()` method for strings can come it handy. It strips all whitespace, including newlines, from the end of a string."
   ]
  },
  {
   "cell_type": "code",
   "execution_count": 5,
   "metadata": {
    "tags": []
   },
   "outputs": [
    {
     "data": {
      "text/plain": [
       "'HEADER    ANTI-ONCOGENE                           13-JUN-94   1OLG'"
      ]
     },
     "execution_count": 5,
     "metadata": {},
     "output_type": "execute_result"
    }
   ],
   "source": [
    "f_list[0].rstrip()"
   ]
  },
  {
   "cell_type": "markdown",
   "metadata": {},
   "source": [
    "### Reading line-by-line\n",
    "\n",
    "What if we do not want to read the entire file into a list? For example, if a file is several gigabytes, we do not want to spend all of our RAM storing a list. Instead, we can read it line-by-line. Conveniently, the file object can be used as an iterator."
   ]
  },
  {
   "cell_type": "code",
   "execution_count": null,
   "metadata": {
    "tags": []
   },
   "outputs": [
    {
     "name": "stdout",
     "output_type": "stream",
     "text": [
      "HEADER    ANTI-ONCOGENE                           13-JUN-94   1OLG\n",
      "TITLE     HIGH-RESOLUTION SOLUTION STRUCTURE OF THE OLIGOMERIZATION\n",
      "TITLE    2 DOMAIN OF P53 BY MULTI-DIMENSIONAL NMR\n",
      "COMPND    MOL_ID: 1;\n",
      "COMPND   2 MOLECULE: TUMOR SUPPRESSOR P53 (OLIGOMERIZATION DOMAIN);\n",
      "COMPND   3 CHAIN: A, B, C, D;\n"
     ]
    }
   ],
   "source": [
    "# Print the first ten lines of the file\n",
    "with open('/Users/jschaefer/git/bootcamp/data/1OLG.pdb', 'r') as f:\n",
    "    for i, line in enumerate(f):\n",
    "        print(line.rstrip())\n",
    "        if i >= 5: # stop after 5 lines\n",
    "            break"
   ]
  },
  {
   "cell_type": "markdown",
   "metadata": {},
   "source": [
    "Alternatively, we can use the method `f.readline()` to read a single line in the file and return it as a string."
   ]
  },
  {
   "cell_type": "code",
   "execution_count": null,
   "metadata": {
    "tags": []
   },
   "outputs": [
    {
     "name": "stdout",
     "output_type": "stream",
     "text": [
      "HEADER    ANTI-ONCOGENE                           13-JUN-94   1OLG\n",
      "TITLE     HIGH-RESOLUTION SOLUTION STRUCTURE OF THE OLIGOMERIZATION\n",
      "TITLE    2 DOMAIN OF P53 BY MULTI-DIMENSIONAL NMR\n",
      "COMPND    MOL_ID: 1;\n",
      "COMPND   2 MOLECULE: TUMOR SUPPRESSOR P53 (OLIGOMERIZATION DOMAIN);\n",
      "COMPND   3 CHAIN: A, B, C, D;\n",
      "COMPND   4 ENGINEERED: YES\n",
      "SOURCE    MOL_ID: 1;\n",
      "SOURCE   2 ORGANISM_SCIENTIFIC: HOMO SAPIENS;\n",
      "SOURCE   3 ORGANISM_COMMON: HUMAN;\n"
     ]
    }
   ],
   "source": [
    "# Print the first ten lines of the file\n",
    "with open('/Users/jschaefer/git/bootcamp/data/1OLG.pdb', 'r') as f:\n",
    "    i = 0\n",
    "    while i < 10:\n",
    "        print(f.readline().rstrip()) #apply two methods to the same object \n",
    "        i += 1"
   ]
  },
  {
   "cell_type": "markdown",
   "metadata": {},
   "source": [
    "Each subsequent call to `f.readline()` reads in the next line of the file. (As we read through a file, we keep moving forward in the bytes of the file and we have to use `f.seek()` to rewind.)"
   ]
  },
  {
   "cell_type": "markdown",
   "metadata": {},
   "source": [
    "## Writing to a file\n",
    "\n",
    "Writing to a file has similar syntax. We already saw how to open a file for writing. Again, context management is useful. However, before trying to open a file, we should check to make sure a file of the same name does not exist before opening it. The `os.path` module is useful. The function `os.path.isfile()` function checks to see if a file exists."
   ]
  },
  {
   "cell_type": "code",
   "execution_count": 15,
   "metadata": {
    "tags": []
   },
   "outputs": [
    {
     "data": {
      "text/plain": [
       "True"
      ]
     },
     "execution_count": 15,
     "metadata": {},
     "output_type": "execute_result"
    }
   ],
   "source": [
    "import os\n",
    "import glob\n",
    "os.path.isfile('/Users/jschaefer/git/bootcamp/data/1OLG.pdb')"
   ]
  },
  {
   "cell_type": "markdown",
   "metadata": {},
   "source": [
    "Now that we know how to check existence of a file so we do not overwrite it, we can open and write a file."
   ]
  },
  {
   "cell_type": "code",
   "execution_count": 16,
   "metadata": {
    "tags": []
   },
   "outputs": [
    {
     "ename": "RuntimeError",
     "evalue": "File yogi.txt already exists.",
     "output_type": "error",
     "traceback": [
      "\u001b[0;31m---------------------------------------------------------------------------\u001b[0m",
      "\u001b[0;31mRuntimeError\u001b[0m                              Traceback (most recent call last)",
      "Cell \u001b[0;32mIn[16], line 2\u001b[0m\n\u001b[1;32m      1\u001b[0m \u001b[38;5;28;01mif\u001b[39;00m os\u001b[38;5;241m.\u001b[39mpath\u001b[38;5;241m.\u001b[39misfile(\u001b[38;5;124m'\u001b[39m\u001b[38;5;124myogi.txt\u001b[39m\u001b[38;5;124m'\u001b[39m):\n\u001b[0;32m----> 2\u001b[0m     \u001b[38;5;28;01mraise\u001b[39;00m \u001b[38;5;167;01mRuntimeError\u001b[39;00m(\u001b[38;5;124m'\u001b[39m\u001b[38;5;124mFile yogi.txt already exists.\u001b[39m\u001b[38;5;124m'\u001b[39m)\n\u001b[1;32m      4\u001b[0m \u001b[38;5;28;01mwith\u001b[39;00m \u001b[38;5;28mopen\u001b[39m(\u001b[38;5;124m'\u001b[39m\u001b[38;5;124myogi.txt\u001b[39m\u001b[38;5;124m'\u001b[39m, \u001b[38;5;124m'\u001b[39m\u001b[38;5;124mw\u001b[39m\u001b[38;5;124m'\u001b[39m) \u001b[38;5;28;01mas\u001b[39;00m f:\n\u001b[1;32m      5\u001b[0m     f\u001b[38;5;241m.\u001b[39mwrite(\u001b[38;5;124m'\u001b[39m\u001b[38;5;124mWhen you come to a fork in the road, take it.\u001b[39m\u001b[38;5;124m'\u001b[39m)\n",
      "\u001b[0;31mRuntimeError\u001b[0m: File yogi.txt already exists."
     ]
    }
   ],
   "source": [
    "if os.path.isfile('yogi.txt'):\n",
    "    raise RuntimeError('File yogi.txt already exists.')\n",
    "\n",
    "with open('yogi.txt', 'w') as f:\n",
    "    f.write('When you come to a fork in the road, take it.')\n",
    "    f.write('You can observe a lot by just watching.')\n",
    "    f.write('I never said most of the things I said.')"
   ]
  },
  {
   "cell_type": "markdown",
   "metadata": {},
   "source": [
    "Note that we can use the `f.write()` method to write strings to a file. Let's look at the file contents."
   ]
  },
  {
   "cell_type": "code",
   "execution_count": 17,
   "metadata": {
    "tags": []
   },
   "outputs": [
    {
     "name": "stdout",
     "output_type": "stream",
     "text": [
      "When you come to a fork in the road, take it.You can observe a lot by just watching.I never said most of the things I said."
     ]
    }
   ],
   "source": [
    "!cat yogi.txt "
   ]
  },
  {
   "cell_type": "markdown",
   "metadata": {},
   "source": [
    "Ah!  There are no newlines!  When writing to a file, unlike when you use the `print()` function, you must include the newline characters.  Let's try again, intentionally obliterating our first attempt."
   ]
  },
  {
   "cell_type": "code",
   "execution_count": 11,
   "metadata": {},
   "outputs": [
    {
     "name": "stdout",
     "output_type": "stream",
     "text": [
      "When you come to a fork in the road, take it.\n",
      "You can observe a lot by just watching.\n",
      "I never said most of the things I said.\n"
     ]
    }
   ],
   "source": [
    "with open('yogi.txt', 'w') as f:\n",
    "    f.write('When you come to a fork in the road, take it.\\n')\n",
    "    f.write('You can observe a lot by just watching.\\n')\n",
    "    f.write('I never said most of the things I said.\\n')\n",
    "    \n",
    "!cat yogi.txt"
   ]
  },
  {
   "cell_type": "markdown",
   "metadata": {},
   "source": [
    "That's better. Note also that `f.write()` **only** takes strings as arguments. You cannot pass numbers. They must be converted to strings first."
   ]
  },
  {
   "cell_type": "code",
   "execution_count": 12,
   "metadata": {},
   "outputs": [
    {
     "ename": "TypeError",
     "evalue": "write() argument must be str, not float",
     "output_type": "error",
     "traceback": [
      "\u001b[0;31m---------------------------------------------------------------------------\u001b[0m",
      "\u001b[0;31mTypeError\u001b[0m                                 Traceback (most recent call last)",
      "Cell \u001b[0;32mIn[12], line 4\u001b[0m\n\u001b[1;32m      2\u001b[0m \u001b[38;5;28;01mwith\u001b[39;00m \u001b[38;5;28mopen\u001b[39m(\u001b[38;5;124m'\u001b[39m\u001b[38;5;124mgimme_phi.txt\u001b[39m\u001b[38;5;124m'\u001b[39m, \u001b[38;5;124m'\u001b[39m\u001b[38;5;124mw\u001b[39m\u001b[38;5;124m'\u001b[39m) \u001b[38;5;28;01mas\u001b[39;00m f:\n\u001b[1;32m      3\u001b[0m     f\u001b[38;5;241m.\u001b[39mwrite(\u001b[38;5;124m'\u001b[39m\u001b[38;5;124mThe golden ratio is φ = \u001b[39m\u001b[38;5;124m'\u001b[39m)\n\u001b[0;32m----> 4\u001b[0m     f\u001b[38;5;241m.\u001b[39mwrite(\u001b[38;5;241m1.61803398875\u001b[39m)\n",
      "\u001b[0;31mTypeError\u001b[0m: write() argument must be str, not float"
     ]
    }
   ],
   "source": [
    "# This will result in an exception\n",
    "with open('gimme_phi.txt', 'w') as f:\n",
    "    f.write('The golden ratio is φ = ')\n",
    "    f.write(1.61803398875)"
   ]
  },
  {
   "cell_type": "markdown",
   "metadata": {},
   "source": [
    "Yup.  It must be a string.  Let's try again."
   ]
  },
  {
   "cell_type": "code",
   "execution_count": 18,
   "metadata": {},
   "outputs": [
    {
     "name": "stdout",
     "output_type": "stream",
     "text": [
      "The golden ratio is φ = 1.61803399"
     ]
    }
   ],
   "source": [
    "with open('gimme_phi.txt', 'w') as f:\n",
    "    f.write('The golden ratio is φ = ')\n",
    "    f.write('{phi:.8f}'.format(phi=1.61803398875))\n",
    "\n",
    "!cat gimme_phi.txt"
   ]
  },
  {
   "cell_type": "markdown",
   "metadata": {},
   "source": [
    "That works!"
   ]
  },
  {
   "cell_type": "markdown",
   "metadata": {},
   "source": [
    "## An exercise: extract atomic coordinates for first chain in tetramer\n",
    "\n",
    "As an example on how to do file I/O, we will take the PDB file and extract only the `ATOM` records for the first chain of the tetramer and write only those entries to a new file.\n",
    "\n",
    "It is useful to know that according to the [PDB format specification](http://www.wwpdb.org/documentation/file-format-content/format33/sect9.html#ATOM), column 21 in the `ATOM` entry gives the ID of the chain.\n",
    "\n",
    "We also conveniently use the fact that we can have multiple files open in our `with` block, separating them with commas."
   ]
  },
  {
   "cell_type": "code",
   "execution_count": 21,
   "metadata": {},
   "outputs": [],
   "source": [
    "with open('/Users/jschaefer/git/bootcamp/data/1OLG.pdb', 'r') as f, open('atoms_chain_A.txt', 'w') as f_out:\n",
    "    # Put the ATOM lines from chain A in new file\n",
    "    for line in f:\n",
    "        if len(line) > 21 and line[:4] == 'ATOM' and line[21] == 'B':\n",
    "            f_out.write(line)"
   ]
  },
  {
   "cell_type": "markdown",
   "metadata": {},
   "source": [
    "Let's see how we did!"
   ]
  },
  {
   "cell_type": "code",
   "execution_count": 22,
   "metadata": {},
   "outputs": [
    {
     "name": "stdout",
     "output_type": "stream",
     "text": [
      "ATOM    700  N   LYS B 319     -18.744  25.982 -10.009  1.00  4.80           N  \n",
      "ATOM    701  CA  LYS B 319     -18.097  25.837  -8.674  1.00  4.31           C  \n",
      "ATOM    702  C   LYS B 319     -18.281  24.408  -8.180  1.00  3.72           C  \n",
      "ATOM    703  O   LYS B 319     -19.378  23.976  -7.897  1.00  3.65           O  \n",
      "ATOM    704  CB  LYS B 319     -18.706  26.802  -7.649  1.00  4.65           C  \n",
      "ATOM    705  CG  LYS B 319     -18.095  26.504  -6.275  1.00  5.14           C  \n",
      "ATOM    706  CD  LYS B 319     -16.566  26.502  -6.387  1.00  5.90           C  \n",
      "ATOM    707  CE  LYS B 319     -16.094  27.811  -7.022  1.00  6.52           C  \n",
      "ATOM    708  NZ  LYS B 319     -16.456  28.951  -6.135  1.00  7.34           N  \n",
      "ATOM    709  H1  LYS B 319     -18.362  25.255 -10.645  1.00  5.07           H  \n"
     ]
    }
   ],
   "source": [
    "!head -10 atoms_chain_A.txt"
   ]
  },
  {
   "cell_type": "code",
   "execution_count": 23,
   "metadata": {},
   "outputs": [
    {
     "name": "stdout",
     "output_type": "stream",
     "text": [
      "ATOM   1388  HD2 PRO B 359      -0.325  26.181 -12.984  1.00  4.68           H  \n",
      "ATOM   1389  HD3 PRO B 359      -0.403  24.455 -12.580  1.00  4.50           H  \n",
      "ATOM   1390  N   GLY B 360       3.874  27.142 -10.260  1.00  5.39           N  \n",
      "ATOM   1391  CA  GLY B 360       4.396  28.465  -9.817  1.00  5.90           C  \n",
      "ATOM   1392  C   GLY B 360       5.886  28.563 -10.146  1.00  6.72           C  \n",
      "ATOM   1393  O   GLY B 360       6.291  27.987 -11.143  1.00  7.20           O  \n",
      "ATOM   1394  OXT GLY B 360       6.598  29.211  -9.397  1.00  7.11           O  \n",
      "ATOM   1395  H   GLY B 360       4.471  26.366 -10.297  1.00  5.67           H  \n",
      "ATOM   1396  HA2 GLY B 360       3.860  29.253 -10.328  1.00  5.94           H  \n",
      "ATOM   1397  HA3 GLY B 360       4.259  28.569  -8.751  1.00  5.99           H  \n"
     ]
    }
   ],
   "source": [
    "!tail -10 atoms_chain_A.txt"
   ]
  },
  {
   "cell_type": "markdown",
   "metadata": {},
   "source": [
    "Nice!"
   ]
  },
  {
   "cell_type": "markdown",
   "metadata": {},
   "source": [
    "## Finding files and with glob\n",
    "\n",
    "In the above snippet of code, we extracted all atom records from a PDB file. We might want to do this (or some other operation) for many files. For example, the directory `~/git/data/` has four PDB files in it. For the present discussion, let's say we want to pull the sequence of chain A out of each PDB file.\n",
    "\n",
    "The `glob` module from the standard library enables us to get a list of all files that match a pattern. In our case, we want all files matching `data/*.pdb`, where `*` is a **wild card character**, meaning that any matches of characters where `*` appears are allowed. Let's see what `glob.glob()` gives us."
   ]
  },
  {
   "cell_type": "code",
   "execution_count": 60,
   "metadata": {},
   "outputs": [
    {
     "data": {
      "text/plain": [
       "['/Users/jschaefer/git/bootcamp/data/1OLG.pdb',\n",
       " '/Users/jschaefer/git/bootcamp/data/1J6Z.pdb',\n",
       " '/Users/jschaefer/git/bootcamp/data/1FAG.pdb',\n",
       " '/Users/jschaefer/git/bootcamp/data/2ERK.pdb']"
      ]
     },
     "execution_count": 60,
     "metadata": {},
     "output_type": "execute_result"
    }
   ],
   "source": [
    "file_list = glob.glob('/Users/jschaefer/git/bootcamp/data/*.pdb')\n",
    "\n",
    "file_list"
   ]
  },
  {
   "cell_type": "markdown",
   "metadata": {},
   "source": [
    "We have the four PDB files. We can now loop over them and pull out the sequences."
   ]
  },
  {
   "cell_type": "code",
   "execution_count": 35,
   "metadata": {},
   "outputs": [
    {
     "data": {
      "text/plain": [
       "'/Users/jschaefer/git/bootcamp/lections'"
      ]
     },
     "execution_count": 35,
     "metadata": {},
     "output_type": "execute_result"
    }
   ],
   "source": [
    "pwd"
   ]
  },
  {
   "cell_type": "code",
   "execution_count": 61,
   "metadata": {},
   "outputs": [],
   "source": [
    "import os\n",
    "import glob\n",
    "os.chdir('/Users/jschaefer/git/bootcamp/data/')\n",
    "\n",
    "# Dictionary to hold sequences\n",
    "seqs = {}\n",
    "\n",
    "# Loop through all matching files\n",
    "for file_name in file_list:\n",
    "    # Extract PDB ID\n",
    "    pdb_id = file_name[file_name.rfind('/')+1:file_name.rfind('.')]\n",
    "    \n",
    "    # Initialize sequence string, which we build as we go along\n",
    "    seq = ''\n",
    "    with open(file_name, 'r') as f:\n",
    "        for line in f:\n",
    "            if len(line) > 11 and line[:6] == 'SEQRES' and line[11] == 'A':\n",
    "                seq += line[19:].rstrip() + ' '\n",
    "\n",
    "    # Build sequence with dash-joined three letter codes\n",
    "    seq = '-'.join(seq.split())\n",
    "\n",
    "    # Store in the dictionary\n",
    "    seqs[pdb_id] = seq\n",
    "\n"
   ]
  },
  {
   "cell_type": "markdown",
   "metadata": {},
   "source": [
    "Let's take a look at what we got. We'll look at actin."
   ]
  },
  {
   "cell_type": "code",
   "execution_count": 62,
   "metadata": {},
   "outputs": [
    {
     "data": {
      "text/plain": [
       "{'1OLG': 'LYS-LYS-LYS-PRO-LEU-ASP-GLY-GLU-TYR-PHE-THR-LEU-GLN-ILE-ARG-GLY-ARG-GLU-ARG-PHE-GLU-MET-PHE-ARG-GLU-LEU-ASN-GLU-ALA-LEU-GLU-LEU-LYS-ASP-ALA-GLN-ALA-GLY-LYS-GLU-PRO-GLY',\n",
       " '1J6Z': 'ASP-GLU-ASP-GLU-THR-THR-ALA-LEU-VAL-CYS-ASP-ASN-GLY-SER-GLY-LEU-VAL-LYS-ALA-GLY-PHE-ALA-GLY-ASP-ASP-ALA-PRO-ARG-ALA-VAL-PHE-PRO-SER-ILE-VAL-GLY-ARG-PRO-ARG-HIS-GLN-GLY-VAL-MET-VAL-GLY-MET-GLY-GLN-LYS-ASP-SER-TYR-VAL-GLY-ASP-GLU-ALA-GLN-SER-LYS-ARG-GLY-ILE-LEU-THR-LEU-LYS-TYR-PRO-ILE-GLU-HIC-GLY-ILE-ILE-THR-ASN-TRP-ASP-ASP-MET-GLU-LYS-ILE-TRP-HIS-HIS-THR-PHE-TYR-ASN-GLU-LEU-ARG-VAL-ALA-PRO-GLU-GLU-HIS-PRO-THR-LEU-LEU-THR-GLU-ALA-PRO-LEU-ASN-PRO-LYS-ALA-ASN-ARG-GLU-LYS-MET-THR-GLN-ILE-MET-PHE-GLU-THR-PHE-ASN-VAL-PRO-ALA-MET-TYR-VAL-ALA-ILE-GLN-ALA-VAL-LEU-SER-LEU-TYR-ALA-SER-GLY-ARG-THR-THR-GLY-ILE-VAL-LEU-ASP-SER-GLY-ASP-GLY-VAL-THR-HIS-ASN-VAL-PRO-ILE-TYR-GLU-GLY-TYR-ALA-LEU-PRO-HIS-ALA-ILE-MET-ARG-LEU-ASP-LEU-ALA-GLY-ARG-ASP-LEU-THR-ASP-TYR-LEU-MET-LYS-ILE-LEU-THR-GLU-ARG-GLY-TYR-SER-PHE-VAL-THR-THR-ALA-GLU-ARG-GLU-ILE-VAL-ARG-ASP-ILE-LYS-GLU-LYS-LEU-CYS-TYR-VAL-ALA-LEU-ASP-PHE-GLU-ASN-GLU-MET-ALA-THR-ALA-ALA-SER-SER-SER-SER-LEU-GLU-LYS-SER-TYR-GLU-LEU-PRO-ASP-GLY-GLN-VAL-ILE-THR-ILE-GLY-ASN-GLU-ARG-PHE-ARG-CYS-PRO-GLU-THR-LEU-PHE-GLN-PRO-SER-PHE-ILE-GLY-MET-GLU-SER-ALA-GLY-ILE-HIS-GLU-THR-THR-TYR-ASN-SER-ILE-MET-LYS-CYS-ASP-ILE-ASP-ILE-ARG-LYS-ASP-LEU-TYR-ALA-ASN-ASN-VAL-MET-SER-GLY-GLY-THR-THR-MET-TYR-PRO-GLY-ILE-ALA-ASP-ARG-MET-GLN-LYS-GLU-ILE-THR-ALA-LEU-ALA-PRO-SER-THR-MET-LYS-ILE-LYS-ILE-ILE-ALA-PRO-PRO-GLU-ARG-LYS-TYR-SER-VAL-TRP-ILE-GLY-GLY-SER-ILE-LEU-ALA-SER-LEU-SER-THR-PHE-GLN-GLN-MET-TRP-ILE-THR-LYS-GLN-GLU-TYR-ASP-GLU-ALA-GLY-PRO-SER-ILE-VAL-HIS-ARG-LYS-CYS-PHE',\n",
       " '1FAG': 'THR-ILE-LYS-GLU-MET-PRO-GLN-PRO-LYS-THR-PHE-GLY-GLU-LEU-LYS-ASN-LEU-PRO-LEU-LEU-ASN-THR-ASP-LYS-PRO-VAL-GLN-ALA-LEU-MET-LYS-ILE-ALA-ASP-GLU-LEU-GLY-GLU-ILE-PHE-LYS-PHE-GLU-ALA-PRO-GLY-ARG-VAL-THR-ARG-TYR-LEU-SER-SER-GLN-ARG-LEU-ILE-LYS-GLU-ALA-CYS-ASP-GLU-SER-ARG-PHE-ASP-LYS-ASN-LEU-SER-GLN-ALA-LEU-LYS-PHE-VAL-ARG-ASP-PHE-ALA-GLY-ASP-GLY-LEU-PHE-THR-SER-TRP-THR-HIS-GLU-LYS-ASN-TRP-LYS-LYS-ALA-HIS-ASN-ILE-LEU-LEU-PRO-SER-PHE-SER-GLN-GLN-ALA-MET-LYS-GLY-TYR-HIS-ALA-MET-MET-VAL-ASP-ILE-ALA-VAL-GLN-LEU-VAL-GLN-LYS-TRP-GLU-ARG-LEU-ASN-ALA-ASP-GLU-HIS-ILE-GLU-VAL-PRO-GLU-ASP-MET-THR-ARG-LEU-THR-LEU-ASP-THR-ILE-GLY-LEU-CYS-GLY-PHE-ASN-TYR-ARG-PHE-ASN-SER-PHE-TYR-ARG-ASP-GLN-PRO-HIS-PRO-PHE-ILE-THR-SER-MET-VAL-ARG-ALA-LEU-ASP-GLU-ALA-MET-ASN-LYS-LEU-GLN-ARG-ALA-ASN-PRO-ASP-ASP-PRO-ALA-TYR-ASP-GLU-ASN-LYS-ARG-GLN-PHE-GLN-GLU-ASP-ILE-LYS-VAL-MET-ASN-ASP-LEU-VAL-ASP-LYS-ILE-ILE-ALA-ASP-ARG-LYS-ALA-SER-GLY-GLU-GLN-SER-ASP-ASP-LEU-LEU-THR-HIS-MET-LEU-ASN-GLY-LYS-ASP-PRO-GLU-THR-GLY-GLU-PRO-LEU-ASP-ASP-GLU-ASN-ILE-ARG-TYR-GLN-ILE-ILE-THR-PHE-LEU-ILE-ALA-GLY-HIS-GLU-THR-THR-SER-GLY-LEU-LEU-SER-PHE-ALA-LEU-TYR-PHE-LEU-VAL-LYS-ASN-PRO-HIS-VAL-LEU-GLN-LYS-ALA-ALA-GLU-GLU-ALA-ALA-ARG-VAL-LEU-VAL-ASP-PRO-VAL-PRO-SER-TYR-LYS-GLN-VAL-LYS-GLN-LEU-LYS-TYR-VAL-GLY-MET-VAL-LEU-ASN-GLU-ALA-LEU-ARG-LEU-TRP-PRO-THR-ALA-PRO-ALA-PHE-SER-LEU-TYR-ALA-LYS-GLU-ASP-THR-VAL-LEU-GLY-GLY-GLU-TYR-PRO-LEU-GLU-LYS-GLY-ASP-GLU-LEU-MET-VAL-LEU-ILE-PRO-GLN-LEU-HIS-ARG-ASP-LYS-THR-ILE-TRP-GLY-ASP-ASP-VAL-GLU-GLU-PHE-ARG-PRO-GLU-ARG-PHE-GLU-ASN-PRO-SER-ALA-ILE-PRO-GLN-HIS-ALA-PHE-LYS-PRO-PHE-GLY-ASN-GLY-GLN-ARG-ALA-CYS-ILE-GLY-GLN-GLN-PHE-ALA-LEU-HIS-GLU-ALA-THR-LEU-VAL-LEU-GLY-MET-MET-LEU-LYS-HIS-PHE-ASP-PHE-GLU-ASP-HIS-THR-ASN-TYR-GLU-LEU-ASP-ILE-LYS-GLU-THR-LEU-THR-LEU-LYS-PRO-GLU-GLY-PHE-VAL-VAL-LYS-ALA-LYS-SER-LYS-LYS-ILE-PRO-LEU-GLY-GLY-ILE-PRO-SER-PRO-SER-THR-GLU-GLN-SER-ALA-LYS-LYS-VAL-ARG',\n",
       " '2ERK': 'ALA-HIS-HIS-HIS-HIS-HIS-HIS-MET-ALA-ALA-ALA-ALA-ALA-ALA-GLY-PRO-GLU-MET-VAL-ARG-GLY-GLN-VAL-PHE-ASP-VAL-GLY-PRO-ARG-TYR-THR-ASN-LEU-SER-TYR-ILE-GLY-GLU-GLY-ALA-TYR-GLY-MET-VAL-CYS-SER-ALA-TYR-ASP-ASN-LEU-ASN-LYS-VAL-ARG-VAL-ALA-ILE-LYS-LYS-ILE-SER-PRO-PHE-GLU-HIS-GLN-THR-TYR-CYS-GLN-ARG-THR-LEU-ARG-GLU-ILE-LYS-ILE-LEU-LEU-ARG-PHE-ARG-HIS-GLU-ASN-ILE-ILE-GLY-ILE-ASN-ASP-ILE-ILE-ARG-ALA-PRO-THR-ILE-GLU-GLN-MET-LYS-ASP-VAL-TYR-ILE-VAL-GLN-ASP-LEU-MET-GLU-THR-ASP-LEU-TYR-LYS-LEU-LEU-LYS-THR-GLN-HIS-LEU-SER-ASN-ASP-HIS-ILE-CYS-TYR-PHE-LEU-TYR-GLN-ILE-LEU-ARG-GLY-LEU-LYS-TYR-ILE-HIS-SER-ALA-ASN-VAL-LEU-HIS-ARG-ASP-LEU-LYS-PRO-SER-ASN-LEU-LEU-LEU-ASN-THR-THR-CYS-ASP-LEU-LYS-ILE-CYS-ASP-PHE-GLY-LEU-ALA-ARG-VAL-ALA-ASP-PRO-ASP-HIS-ASP-HIS-THR-GLY-PHE-LEU-TPO-GLU-PTR-VAL-ALA-THR-ARG-TRP-TYR-ARG-ALA-PRO-GLU-ILE-MET-LEU-ASN-SER-LYS-GLY-TYR-THR-LYS-SER-ILE-ASP-ILE-TRP-SER-VAL-GLY-CYS-ILE-LEU-ALA-GLU-MET-LEU-SER-ASN-ARG-PRO-ILE-PHE-PRO-GLY-LYS-HIS-TYR-LEU-ASP-GLN-LEU-ASN-HIS-ILE-LEU-GLY-ILE-LEU-GLY-SER-PRO-SER-GLN-GLU-ASP-LEU-ASN-CYS-ILE-ILE-ASN-LEU-LYS-ALA-ARG-ASN-TYR-LEU-LEU-SER-LEU-PRO-HIS-LYS-ASN-LYS-VAL-PRO-TRP-ASN-ARG-LEU-PHE-PRO-ASN-ALA-ASP-SER-LYS-ALA-LEU-ASP-LEU-LEU-ASP-LYS-MET-LEU-THR-PHE-ASN-PRO-HIS-LYS-ARG-ILE-GLU-VAL-GLU-GLN-ALA-LEU-ALA-HIS-PRO-TYR-LEU-GLU-GLN-TYR-TYR-ASP-PRO-SER-ASP-GLU-PRO-ILE-ALA-GLU-ALA-PRO-PHE-LYS-PHE-ASP-MET-GLU-LEU-ASP-ASP-LEU-PRO-LYS-GLU-LYS-LEU-LYS-GLU-LEU-ILE-PHE-GLU-GLU-THR-ALA-ARG-PHE-GLN-PRO-GLY-TYR-ARG-SER'}"
      ]
     },
     "execution_count": 62,
     "metadata": {},
     "output_type": "execute_result"
    }
   ],
   "source": [
    "seqs"
   ]
  },
  {
   "cell_type": "markdown",
   "metadata": {},
   "source": [
    "Excellent! Our function worked, and we now have the protein sequence."
   ]
  },
  {
   "cell_type": "markdown",
   "metadata": {},
   "source": [
    "## Computing environment"
   ]
  },
  {
   "cell_type": "code",
   "execution_count": 20,
   "metadata": {
    "tags": [
     "hide-input"
    ]
   },
   "outputs": [
    {
     "name": "stdout",
     "output_type": "stream",
     "text": [
      "Python implementation: CPython\n",
      "Python version       : 3.11.9\n",
      "IPython version      : 8.20.0\n",
      "\n",
      "jupyterlab: 4.0.13\n",
      "\n"
     ]
    }
   ],
   "source": [
    "%load_ext watermark\n",
    "%watermark -v -p jupyterlab"
   ]
  }
 ],
 "metadata": {
  "anaconda-cloud": {},
  "kernelspec": {
   "display_name": "bootcamp",
   "language": "python",
   "name": "python3"
  },
  "language_info": {
   "codemirror_mode": {
    "name": "ipython",
    "version": 3
   },
   "file_extension": ".py",
   "mimetype": "text/x-python",
   "name": "python",
   "nbconvert_exporter": "python",
   "pygments_lexer": "ipython3",
   "version": "3.12.9"
  }
 },
 "nbformat": 4,
 "nbformat_minor": 4
}
